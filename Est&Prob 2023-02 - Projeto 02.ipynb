{
 "cells": [
  {
   "cell_type": "markdown",
   "metadata": {},
   "source": [
    "## Questão 3)"
   ]
  },
  {
   "cell_type": "markdown",
   "metadata": {},
   "source": [
    "Um inseto se move aleatoriamente em um tabuleiro de tamanho 5 × 5 de acordo com a seguinte regra: a cada movimento ele tem igual probabilidade de saltar para alguma das casas adjacentes àquela ocupada, onde não considera-se casas na diagonal como adjacentes; porém, na casa do canto superior esquerdo há uma armadilha que imobiliza o inseto; na casa do canto inferior direito há um portal que transporta o inseto para qualquer outra casa do tabuleiro, com igual probabilidade; finalmente, nas casas dos cantos superior direito e inferior esquerdo há portais que transportam o inseto entre essas casas somente. Com base nessa descrição, faça o que se pede abaixo."
   ]
  },
  {
   "cell_type": "markdown",
   "metadata": {},
   "source": [
    "### A) Justifique que uma cadeia de Markov é um modelo adequado para descrever tal situação, e construa a matriz de probabilidades de transição de tal processo."
   ]
  },
  {
   "cell_type": "markdown",
   "metadata": {},
   "source": [
    "Uma cadeia de Markov é basicamente \"Uma sequência finita X, $X_1$, $X_2$, ... de variáveis aleatórias, onde cada $X_i$ assume valores em um conjunto finito ou enumerável, e satisfaz a propriedade de Markov, ou seja, a probabilidade de $X_{n+1}$ assumir um valor depende apenas do valor atual $X_n$ e não dos valores anteriores $X_1$, $X_2$, ..., $X_{n-1}$\". Nesse contexto, como a observação de $X_{n+1}$ depende apenas do valor atual $X_n$, podemos dizer que a cadeia de Markov é um modelo adequado para descrever a situação, pois:\n",
    "\n",
    "Pode-se representar o movimento do inseto no tabuleiro em 25 estados, onde cada estado representa uma casa do tabuleiro. A cada movimento, o inseto tem igual probabilidade de saltar para alguma das casas adjacentes àquela ocupada, onde não se considera casas na diagonal como adjacentes. Portanto, a probabilidade de saltar para uma casa adjacente é de 1/4, exceto nas casas posicionadas na borda do tabuleiro, onde a probabilidade de saltar para uma casa adjacente é de 1/3. Além disso, nas casas dos cantos superior direito e inferior esquerdo há portais que transportam o inseto entre essas casas somente, ficando em um loop infinito entre essas casas. Por fim, no canto superior esquerdo há uma armadilha que imobiliza o inseto, e no canto inferior direito há um portal que transporta o inseto para qualquer outra casa do tabuleiro, com igual probabilidade.\n",
    "\n",
    "Neste contexto, podemos perceber que o processo de analisar a probabilidade de cada movimento no tabuleiro depende apenas da ultima casa que o inseto estava, ou seja, a probabilidade de saltar para uma casa adjacente depende apenas da casa atual, e não das casas anteriores. Portanto, podemos dizer que a cadeia de Markov é um modelo adequado para descrever a situação.\n",
    "\n",
    "Montando a matriz de probabilidades de transição, utilizando a notação $P_{ij}$ para representar a probabilidade de saltar da casa $i$ para a casa $j$, em que cada casa é representada por um número de 1 a 25 (da esquerda para a direita, de cima para baixo), temos:\n"
   ]
  },
  {
   "cell_type": "code",
   "execution_count": 82,
   "metadata": {},
   "outputs": [],
   "source": [
    "import numpy as np"
   ]
  },
  {
   "cell_type": "markdown",
   "metadata": {},
   "source": [
    "Este será o tabuleiro utilizado para representar a matriz de probabilidades de transição:\n",
    "\\begin{bmatrix}\n",
    "0 & 1 & 2 & 3 & 4 \\\\\n",
    "5 & 6 & 7 & 8 & 9 \\\\\n",
    "10 & 11 & 12 & 13 & 14 \\\\\n",
    "15 & 16 & 17 & 18 & 19 \\\\\n",
    "20 & 21 & 22 & 23 & 24 \\\\\n",
    "\\end{bmatrix}\n"
   ]
  },
  {
   "cell_type": "markdown",
   "metadata": {},
   "source": [
    "O código abaixo foi utilizado para montar a matriz de probabilidades de transição:"
   ]
  },
  {
   "cell_type": "code",
   "execution_count": 83,
   "metadata": {},
   "outputs": [],
   "source": [
    "def create_line_markov(lines, columns):\n",
    "    \n",
    "    markov = np.zeros((25))\n",
    "\n",
    "    if lines == 0 and columns == 0: # Armadilha\n",
    "        markov[0] = 1\n",
    "        return markov\n",
    "    \n",
    "    elif lines == 0 and columns == 4: # Portal 1\n",
    "        markov[20] = 1\n",
    "        return markov\n",
    "    \n",
    "    elif lines == 4 and columns == 0: # Portal 2\n",
    "        markov[4] = 1\n",
    "        return markov\n",
    "    \n",
    "    elif lines == 4 and columns == 4: # Portal Randômico\n",
    "        for i in range(0, 24):\n",
    "            markov[i] = 1/24\n",
    "        return markov\n",
    "    \n",
    "    # Linhas e colunas da borda\n",
    "    elif lines == 0: \n",
    "        markov[columns-1] = 1/3\n",
    "        markov[columns+1] = 1/3\n",
    "        markov[columns+5] = 1/3\n",
    "        return markov\n",
    "\n",
    "    elif lines == 4:\n",
    "        markov[lines*5+columns-1] = 1/3\n",
    "        markov[lines*5+columns+1] = 1/3\n",
    "        markov[lines*5+columns-5] = 1/3\n",
    "        return markov\n",
    "    \n",
    "    elif columns == 0:\n",
    "        markov[lines*5+1] = 1/3\n",
    "        markov[lines*5-5] = 1/3\n",
    "        markov[lines*5+5] = 1/3\n",
    "        return markov\n",
    "    \n",
    "    elif columns == 4:\n",
    "        markov[lines*5+columns-1] = 1/3\n",
    "        markov[lines*5+columns+5] = 1/3\n",
    "        markov[lines*5+columns-5] = 1/3\n",
    "        return markov\n",
    "    \n",
    "    # Linhas e colunas do meio\n",
    "    else: \n",
    "        markov[lines*5+columns-1] = 1/4\n",
    "        markov[lines*5+columns+1] = 1/4\n",
    "        markov[lines*5+columns-5] = 1/4\n",
    "        markov[lines*5+columns+5] = 1/4\n",
    "        return markov\n",
    "\n",
    "def create_matrix_markov():\n",
    "    matrix = np.zeros((25, 25))\n",
    "    for i in range(0, 25):\n",
    "        matrix[i] = create_line_markov(i//5, i%5)\n",
    "    return matrix\n"
   ]
  },
  {
   "cell_type": "code",
   "execution_count": 109,
   "metadata": {},
   "outputs": [
    {
     "data": {
      "text/plain": [
       "array([0.     , 0.     , 0.     , 0.     , 0.     , 0.     , 0.     ,\n",
       "       0.     , 0.     , 0.     , 0.     , 0.     , 0.     , 0.     ,\n",
       "       0.33333, 0.     , 0.     , 0.     , 0.33333, 0.     , 0.     ,\n",
       "       0.     , 0.     , 0.     , 0.33333])"
      ]
     },
     "execution_count": 109,
     "metadata": {},
     "output_type": "execute_result"
    }
   ],
   "source": [
    "P = create_matrix_markov()\n",
    "\n",
    "# Teste de soma das linhas\n",
    "for i in range(0, 25):\n",
    "    assert(np.sum(P[i]) == 1)\n",
    "\n",
    "# P[i] é a linha i da matriz de transição\n",
    "np.set_printoptions(suppress=True, precision=5)\n",
    "P[19].view()"
   ]
  },
  {
   "cell_type": "code",
   "execution_count": 110,
   "metadata": {},
   "outputs": [
    {
     "data": {
      "text/plain": [
       "array([[1.     , 0.     , 0.     , 0.     , 0.     , 0.     , 0.     ,\n",
       "        0.     , 0.     , 0.     , 0.     , 0.     , 0.     , 0.     ,\n",
       "        0.     , 0.     , 0.     , 0.     , 0.     , 0.     , 0.     ,\n",
       "        0.     , 0.     , 0.     , 0.     ],\n",
       "       [0.33333, 0.     , 0.33333, 0.     , 0.     , 0.     , 0.33333,\n",
       "        0.     , 0.     , 0.     , 0.     , 0.     , 0.     , 0.     ,\n",
       "        0.     , 0.     , 0.     , 0.     , 0.     , 0.     , 0.     ,\n",
       "        0.     , 0.     , 0.     , 0.     ],\n",
       "       [0.     , 0.33333, 0.     , 0.33333, 0.     , 0.     , 0.     ,\n",
       "        0.33333, 0.     , 0.     , 0.     , 0.     , 0.     , 0.     ,\n",
       "        0.     , 0.     , 0.     , 0.     , 0.     , 0.     , 0.     ,\n",
       "        0.     , 0.     , 0.     , 0.     ],\n",
       "       [0.     , 0.     , 0.33333, 0.     , 0.33333, 0.     , 0.     ,\n",
       "        0.     , 0.33333, 0.     , 0.     , 0.     , 0.     , 0.     ,\n",
       "        0.     , 0.     , 0.     , 0.     , 0.     , 0.     , 0.     ,\n",
       "        0.     , 0.     , 0.     , 0.     ],\n",
       "       [0.     , 0.     , 0.     , 0.     , 0.     , 0.     , 0.     ,\n",
       "        0.     , 0.     , 0.     , 0.     , 0.     , 0.     , 0.     ,\n",
       "        0.     , 0.     , 0.     , 0.     , 0.     , 0.     , 1.     ,\n",
       "        0.     , 0.     , 0.     , 0.     ],\n",
       "       [0.33333, 0.     , 0.     , 0.     , 0.     , 0.     , 0.33333,\n",
       "        0.     , 0.     , 0.     , 0.33333, 0.     , 0.     , 0.     ,\n",
       "        0.     , 0.     , 0.     , 0.     , 0.     , 0.     , 0.     ,\n",
       "        0.     , 0.     , 0.     , 0.     ],\n",
       "       [0.     , 0.25   , 0.     , 0.     , 0.     , 0.25   , 0.     ,\n",
       "        0.25   , 0.     , 0.     , 0.     , 0.25   , 0.     , 0.     ,\n",
       "        0.     , 0.     , 0.     , 0.     , 0.     , 0.     , 0.     ,\n",
       "        0.     , 0.     , 0.     , 0.     ],\n",
       "       [0.     , 0.     , 0.25   , 0.     , 0.     , 0.     , 0.25   ,\n",
       "        0.     , 0.25   , 0.     , 0.     , 0.     , 0.25   , 0.     ,\n",
       "        0.     , 0.     , 0.     , 0.     , 0.     , 0.     , 0.     ,\n",
       "        0.     , 0.     , 0.     , 0.     ],\n",
       "       [0.     , 0.     , 0.     , 0.25   , 0.     , 0.     , 0.     ,\n",
       "        0.25   , 0.     , 0.25   , 0.     , 0.     , 0.     , 0.25   ,\n",
       "        0.     , 0.     , 0.     , 0.     , 0.     , 0.     , 0.     ,\n",
       "        0.     , 0.     , 0.     , 0.     ],\n",
       "       [0.     , 0.     , 0.     , 0.     , 0.33333, 0.     , 0.     ,\n",
       "        0.     , 0.33333, 0.     , 0.     , 0.     , 0.     , 0.     ,\n",
       "        0.33333, 0.     , 0.     , 0.     , 0.     , 0.     , 0.     ,\n",
       "        0.     , 0.     , 0.     , 0.     ],\n",
       "       [0.     , 0.     , 0.     , 0.     , 0.     , 0.33333, 0.     ,\n",
       "        0.     , 0.     , 0.     , 0.     , 0.33333, 0.     , 0.     ,\n",
       "        0.     , 0.33333, 0.     , 0.     , 0.     , 0.     , 0.     ,\n",
       "        0.     , 0.     , 0.     , 0.     ],\n",
       "       [0.     , 0.     , 0.     , 0.     , 0.     , 0.     , 0.25   ,\n",
       "        0.     , 0.     , 0.     , 0.25   , 0.     , 0.25   , 0.     ,\n",
       "        0.     , 0.     , 0.25   , 0.     , 0.     , 0.     , 0.     ,\n",
       "        0.     , 0.     , 0.     , 0.     ],\n",
       "       [0.     , 0.     , 0.     , 0.     , 0.     , 0.     , 0.     ,\n",
       "        0.25   , 0.     , 0.     , 0.     , 0.25   , 0.     , 0.25   ,\n",
       "        0.     , 0.     , 0.     , 0.25   , 0.     , 0.     , 0.     ,\n",
       "        0.     , 0.     , 0.     , 0.     ],\n",
       "       [0.     , 0.     , 0.     , 0.     , 0.     , 0.     , 0.     ,\n",
       "        0.     , 0.25   , 0.     , 0.     , 0.     , 0.25   , 0.     ,\n",
       "        0.25   , 0.     , 0.     , 0.     , 0.25   , 0.     , 0.     ,\n",
       "        0.     , 0.     , 0.     , 0.     ],\n",
       "       [0.     , 0.     , 0.     , 0.     , 0.     , 0.     , 0.     ,\n",
       "        0.     , 0.     , 0.33333, 0.     , 0.     , 0.     , 0.33333,\n",
       "        0.     , 0.     , 0.     , 0.     , 0.     , 0.33333, 0.     ,\n",
       "        0.     , 0.     , 0.     , 0.     ],\n",
       "       [0.     , 0.     , 0.     , 0.     , 0.     , 0.     , 0.     ,\n",
       "        0.     , 0.     , 0.     , 0.33333, 0.     , 0.     , 0.     ,\n",
       "        0.     , 0.     , 0.33333, 0.     , 0.     , 0.     , 0.33333,\n",
       "        0.     , 0.     , 0.     , 0.     ],\n",
       "       [0.     , 0.     , 0.     , 0.     , 0.     , 0.     , 0.     ,\n",
       "        0.     , 0.     , 0.     , 0.     , 0.25   , 0.     , 0.     ,\n",
       "        0.     , 0.25   , 0.     , 0.25   , 0.     , 0.     , 0.     ,\n",
       "        0.25   , 0.     , 0.     , 0.     ],\n",
       "       [0.     , 0.     , 0.     , 0.     , 0.     , 0.     , 0.     ,\n",
       "        0.     , 0.     , 0.     , 0.     , 0.     , 0.25   , 0.     ,\n",
       "        0.     , 0.     , 0.25   , 0.     , 0.25   , 0.     , 0.     ,\n",
       "        0.     , 0.25   , 0.     , 0.     ],\n",
       "       [0.     , 0.     , 0.     , 0.     , 0.     , 0.     , 0.     ,\n",
       "        0.     , 0.     , 0.     , 0.     , 0.     , 0.     , 0.25   ,\n",
       "        0.     , 0.     , 0.     , 0.25   , 0.     , 0.25   , 0.     ,\n",
       "        0.     , 0.     , 0.25   , 0.     ],\n",
       "       [0.     , 0.     , 0.     , 0.     , 0.     , 0.     , 0.     ,\n",
       "        0.     , 0.     , 0.     , 0.     , 0.     , 0.     , 0.     ,\n",
       "        0.33333, 0.     , 0.     , 0.     , 0.33333, 0.     , 0.     ,\n",
       "        0.     , 0.     , 0.     , 0.33333],\n",
       "       [0.     , 0.     , 0.     , 0.     , 1.     , 0.     , 0.     ,\n",
       "        0.     , 0.     , 0.     , 0.     , 0.     , 0.     , 0.     ,\n",
       "        0.     , 0.     , 0.     , 0.     , 0.     , 0.     , 0.     ,\n",
       "        0.     , 0.     , 0.     , 0.     ],\n",
       "       [0.     , 0.     , 0.     , 0.     , 0.     , 0.     , 0.     ,\n",
       "        0.     , 0.     , 0.     , 0.     , 0.     , 0.     , 0.     ,\n",
       "        0.     , 0.     , 0.33333, 0.     , 0.     , 0.     , 0.33333,\n",
       "        0.     , 0.33333, 0.     , 0.     ],\n",
       "       [0.     , 0.     , 0.     , 0.     , 0.     , 0.     , 0.     ,\n",
       "        0.     , 0.     , 0.     , 0.     , 0.     , 0.     , 0.     ,\n",
       "        0.     , 0.     , 0.     , 0.33333, 0.     , 0.     , 0.     ,\n",
       "        0.33333, 0.     , 0.33333, 0.     ],\n",
       "       [0.     , 0.     , 0.     , 0.     , 0.     , 0.     , 0.     ,\n",
       "        0.     , 0.     , 0.     , 0.     , 0.     , 0.     , 0.     ,\n",
       "        0.     , 0.     , 0.     , 0.     , 0.33333, 0.     , 0.     ,\n",
       "        0.     , 0.33333, 0.     , 0.33333],\n",
       "       [0.04167, 0.04167, 0.04167, 0.04167, 0.04167, 0.04167, 0.04167,\n",
       "        0.04167, 0.04167, 0.04167, 0.04167, 0.04167, 0.04167, 0.04167,\n",
       "        0.04167, 0.04167, 0.04167, 0.04167, 0.04167, 0.04167, 0.04167,\n",
       "        0.04167, 0.04167, 0.04167, 0.     ]])"
      ]
     },
     "execution_count": 110,
     "metadata": {},
     "output_type": "execute_result"
    }
   ],
   "source": [
    "P.view()"
   ]
  },
  {
   "cell_type": "markdown",
   "metadata": {},
   "source": [
    "### B) Construa um algoritmo para simular a posição do inseto, onde é possível selecionar a casa do tabuleiro onde o inseto localiza-se inicialmente."
   ]
  },
  {
   "cell_type": "markdown",
   "metadata": {},
   "source": [
    "O código abaixo foi utilizado para simular a posição do inseto, usando a propriedade de Markov e o Método da Potência para encontrar a distribuição de probabilidade da posicao do inseto no tabuleiro após um número $n$ de movimentos. Para isso, basta elevar o vetor de distribuição de probabilidade inicial $v_0$ à matriz de probabilidades de transição $P$, $n$ vezes, ou seja, $v_n = v_0 * P^n$. Esse método será ideal para calcular a distribuição de probabilidade da posição do inseto em infinitos passos, já que a matriz converge para um vetor de distribuição de probabilidade estável, como veremos na próxima questão. Além disso, foi feito outro método para simular, de fato, a posição do inseto no tabuleiro, onde o inseto é movido de acordo com a distribuição de probabilidade encontrada a cada posição."
   ]
  },
  {
   "cell_type": "code",
   "execution_count": 86,
   "metadata": {},
   "outputs": [],
   "source": [
    "def simulacao_tabuleiro_prob(posicao_inicial, P, n):\n",
    "    posicao = np.zeros((25))\n",
    "    posicao[posicao_inicial] = 1\n",
    "\n",
    "    Pn = np.linalg.matrix_power(P, n)\n",
    "\n",
    "    return np.dot(posicao, Pn)"
   ]
  },
  {
   "cell_type": "code",
   "execution_count": 87,
   "metadata": {},
   "outputs": [
    {
     "name": "stdout",
     "output_type": "stream",
     "text": [
      "0.9999999999999999\n"
     ]
    },
    {
     "data": {
      "text/plain": [
       "array([0.1124547 , 0.01967696, 0.00104216, 0.0152043 , 0.53138163,\n",
       "       0.02536069, 0.00126614, 0.0391354 , 0.00126614, 0.0133135 ,\n",
       "       0.00104216, 0.05100437, 0.00140599, 0.03442021, 0.00104216,\n",
       "       0.02707327, 0.00126614, 0.04532064, 0.00126614, 0.01496178,\n",
       "       0.01585432, 0.02421393, 0.00104216, 0.01967696, 0.00030812])"
      ]
     },
     "execution_count": 87,
     "metadata": {},
     "output_type": "execute_result"
    }
   ],
   "source": [
    "# Exemplo de simulação de probabilidade de estar em cada posição do tabuleiro após 10 jogadas, começando na posição 15\n",
    "Prob =simulacao_tabuleiro_prob(15, P, 10)\n",
    "print(sum(Prob))\n",
    "np.set_printoptions(suppress=True)\n",
    "Prob.view()"
   ]
  },
  {
   "cell_type": "code",
   "execution_count": 88,
   "metadata": {},
   "outputs": [
    {
     "name": "stdout",
     "output_type": "stream",
     "text": [
      "0.9999999999999994\n"
     ]
    },
    {
     "data": {
      "text/plain": [
       "array([0.22836879, 0.        , 0.        , 0.        , 0.65177305,\n",
       "       0.        , 0.        , 0.        , 0.        , 0.        ,\n",
       "       0.        , 0.        , 0.        , 0.        , 0.        ,\n",
       "       0.        , 0.        , 0.        , 0.        , 0.        ,\n",
       "       0.11985816, 0.        , 0.        , 0.        , 0.        ])"
      ]
     },
     "execution_count": 88,
     "metadata": {},
     "output_type": "execute_result"
    }
   ],
   "source": [
    "# Exemplo de simulação de probabilidade de estar em cada posição do tabuleiro após 100000 jogadas, começando na posição 15\n",
    "Prob =simulacao_tabuleiro_prob(15, P, 100000)\n",
    "print(sum(Prob))\n",
    "np.set_printoptions(suppress=True)\n",
    "Prob.view()"
   ]
  },
  {
   "cell_type": "code",
   "execution_count": 89,
   "metadata": {},
   "outputs": [],
   "source": [
    "def simulacao_tabuleiro(posicao_inicial, P):\n",
    "    posicao = np.random.choice(25, p=P[posicao_inicial]) # Escolhe um número de 0 a 24 com base na probabilidade de cada posição\n",
    "    return posicao"
   ]
  },
  {
   "cell_type": "code",
   "execution_count": 90,
   "metadata": {},
   "outputs": [],
   "source": [
    "# Somente por curiosidade, mas não é necessário para o projeto.\n",
    "def simulacao_tabuleiro_rapido(posicao_inicial, P, n):\n",
    "    posicao = posicao_inicial\n",
    "    Pn = np.linalg.matrix_power(P, n)\n",
    "    for _ in range(0, n):\n",
    "        posicao = np.random.choice(25, p=Pn[posicao]) # Escolhe um número de 0 a 24 com base na probabilidade de cada posição\n",
    "    return posicao"
   ]
  },
  {
   "cell_type": "code",
   "execution_count": 111,
   "metadata": {},
   "outputs": [
    {
     "name": "stdout",
     "output_type": "stream",
     "text": [
      "[0.     0.     0.     0.     0.     0.     0.     0.     0.     0.\n",
      " 0.3374 0.     0.     0.     0.     0.     0.3282 0.     0.     0.\n",
      " 0.3344]\n"
     ]
    }
   ],
   "source": [
    "# Teste da simulacao_tabuleiro para saber se a distribuição de probabilidades é a esperada\n",
    "\n",
    "total = []\n",
    "\n",
    "for _ in range(0, 10000):\n",
    "    casa = simulacao_tabuleiro(15, P)\n",
    "    total.append(casa)\n",
    "\n",
    "print(np.bincount(total)/10000)"
   ]
  },
  {
   "cell_type": "code",
   "execution_count": 125,
   "metadata": {},
   "outputs": [
    {
     "name": "stdout",
     "output_type": "stream",
     "text": [
      "Caiu na casa: 6\n",
      "Caiu na casa: 5\n",
      "Caiu na casa: 6\n",
      "Caiu na casa: 11\n",
      "Caiu na casa: 16\n",
      "Caiu na casa: 11\n",
      "Caiu na casa: 10\n",
      "Caiu na casa: 15\n",
      "Caiu na casa: 10\n",
      "Caiu na casa: 15\n",
      "Caiu na casa: 20\n",
      "Caiu na casa: 4\n",
      "Caiu na casa: 20\n",
      "Caiu na casa: 4\n",
      "Caiu na casa: 20\n",
      "\n",
      "Terminou na casa 20\n"
     ]
    }
   ],
   "source": [
    "# Exemplo de simulação\n",
    "casa = 1\n",
    "passos = 15\n",
    "\n",
    "for _ in range(0, passos):\n",
    "    casa = simulacao_tabuleiro(casa, P)\n",
    "    print(\"Caiu na casa:\", casa)\n",
    "    \n",
    "print(\"\\nTerminou na casa\", casa)"
   ]
  },
  {
   "cell_type": "markdown",
   "metadata": {},
   "source": [
    "### C) Utilizando o algoritmo do item b), encontre uma aproximação para a probabilidade do inseto ser capturado pela armadilha do tabuleiro. Note que tal quantidade será função da casa inicialmente ocupada pelo inseto. Justifique intuitivamente o resultado obtido."
   ]
  },
  {
   "cell_type": "markdown",
   "metadata": {},
   "source": [
    "Usando o método explicado anteriormente:"
   ]
  },
  {
   "cell_type": "code",
   "execution_count": 93,
   "metadata": {},
   "outputs": [],
   "source": [
    "def prob_capturado(posicao_inicial, P, n):\n",
    "    Prob = simulacao_tabuleiro_prob(posicao_inicial, P, n)\n",
    "    return Prob[0] # Retorna a probabilidade de estar na casa 0"
   ]
  },
  {
   "cell_type": "code",
   "execution_count": 101,
   "metadata": {},
   "outputs": [
    {
     "name": "stdout",
     "output_type": "stream",
     "text": [
      "Probabilidade de ser capturado na casa 0 em 100000000 passos: 1.0\n",
      "Probabilidade de ser capturado na casa 1 em 100000000 passos: 0.6439716312056735\n",
      "Probabilidade de ser capturado na casa 2 em 100000000 passos: 0.41843971631205656\n",
      "Probabilidade de ser capturado na casa 3 em 100000000 passos: 0.22836879432624108\n",
      "Probabilidade de ser capturado na casa 4 em 100000000 passos: 0.0\n",
      "Probabilidade de ser capturado na casa 5 em 100000000 passos: 0.6439716312056735\n",
      "Probabilidade de ser capturado na casa 6 em 100000000 passos: 0.5134751773049642\n",
      "Probabilidade de ser capturado na casa 7 em 100000000 passos: 0.38297872340425504\n",
      "Probabilidade de ser capturado na casa 8 em 100000000 passos: 0.2666666666666663\n",
      "Probabilidade de ser capturado na casa 9 em 100000000 passos: 0.17163120567375867\n",
      "Probabilidade de ser capturado na casa 10 em 100000000 passos: 0.41843971631205656\n",
      "Probabilidade de ser capturado na casa 11 em 100000000 passos: 0.3829787234042551\n",
      "Probabilidade de ser capturado na casa 12 em 100000000 passos: 0.3333333333333335\n",
      "Probabilidade de ser capturado na casa 13 em 100000000 passos: 0.283687943262411\n",
      "Probabilidade de ser capturado na casa 14 em 100000000 passos: 0.24822695035460998\n",
      "Probabilidade de ser capturado na casa 15 em 100000000 passos: 0.22836879432624108\n",
      "Probabilidade de ser capturado na casa 16 em 100000000 passos: 0.26666666666666633\n",
      "Probabilidade de ser capturado na casa 17 em 100000000 passos: 0.28368794326241104\n",
      "Probabilidade de ser capturado na casa 18 em 100000000 passos: 0.2865248226950352\n",
      "Probabilidade de ser capturado na casa 19 em 100000000 passos: 0.28936170212765955\n",
      "Probabilidade de ser capturado na casa 20 em 100000000 passos: 0.0\n",
      "Probabilidade de ser capturado na casa 21 em 100000000 passos: 0.17163120567375867\n",
      "Probabilidade de ser capturado na casa 22 em 100000000 passos: 0.24822695035460995\n",
      "Probabilidade de ser capturado na casa 23 em 100000000 passos: 0.2893617021276596\n",
      "Probabilidade de ser capturado na casa 24 em 100000000 passos: 0.33333333333333304\n"
     ]
    }
   ],
   "source": [
    "# Exemplo de probabilidade de ser capturado\n",
    "#casa = 14\n",
    "passo = 100000000 # Basicamente infinito, porém não importa, a probabilidade converge bem antes disso\n",
    "\n",
    "for i in range(25):\n",
    "    print(\"Probabilidade de ser capturado na casa\", i, \"em\", passo, \"passos:\", prob_capturado(i, P, passo))"
   ]
  },
  {
   "cell_type": "markdown",
   "metadata": {},
   "source": [
    "### D) Também usando o algoritmo do item b), encontre uma aproximação para o número médio de saltos que o inseto dá antes de ser capturado pela armadilha. Analogamente ao item c), isso também será uma função da casa inicialmente ocupada no tabuleiro. Qual casa inicial maximiza o número médio de saltos do inseto antes de ser capturado?"
   ]
  },
  {
   "cell_type": "markdown",
   "metadata": {},
   "source": [
    "Neste caso, ignoramos o caso em que o inseto entra no loop 4,20 -> 20,4, pois o inseto nunca será capturado pela armadilha. Portanto, o número médio de saltos que o inseto dá antes de ser capturado pela armadilha é:"
   ]
  },
  {
   "cell_type": "code",
   "execution_count": 95,
   "metadata": {},
   "outputs": [],
   "source": [
    "def media_saltos_captura(posicao_inicial, P, n):\n",
    "    lista_saltos = []\n",
    "    for _ in range(0, n):\n",
    "        posicao = posicao_inicial\n",
    "        counter = 0\n",
    "        \n",
    "        while posicao != 0:\n",
    "            posicao = simulacao_tabuleiro(posicao, P)\n",
    "            if posicao == 4 or posicao == 20:\n",
    "                break\n",
    "            counter += 1\n",
    "\n",
    "        #print(counter)\n",
    "        if posicao == 0:\n",
    "            lista_saltos.append(counter)\n",
    "\n",
    "    return np.mean(lista_saltos)\n",
    "        "
   ]
  },
  {
   "cell_type": "code",
   "execution_count": 129,
   "metadata": {},
   "outputs": [
    {
     "name": "stdout",
     "output_type": "stream",
     "text": [
      "Média de saltos até ser capturado: 6.2661402693915464\n"
     ]
    }
   ],
   "source": [
    "# Exemplo de média de saltos até ser capturado\n",
    "print(\"Média de saltos até ser capturado:\", media_saltos_captura(1, P, 10000))"
   ]
  },
  {
   "cell_type": "code",
   "execution_count": 130,
   "metadata": {},
   "outputs": [
    {
     "name": "stdout",
     "output_type": "stream",
     "text": [
      "Média de saltos até ser capturado na casa 0 : 0.0\n",
      "Média de saltos até ser capturado na casa 1 : 6.367968191842947\n",
      "Média de saltos até ser capturado na casa 2 : 11.571127156789197\n",
      "Média de saltos até ser capturado na casa 3 : 15.22342105263158\n",
      "Média de saltos até ser capturado na casa 5 : 6.386483369182331\n",
      "Média de saltos até ser capturado na casa 6 : 10.276596573208723\n",
      "Média de saltos até ser capturado na casa 7 : 14.901156731971655\n",
      "Média de saltos até ser capturado na casa 8 : 18.220272610889374\n",
      "Média de saltos até ser capturado na casa 9 : 20.59213107188185\n",
      "Média de saltos até ser capturado na casa 10 : 11.406270911002773\n",
      "Média de saltos até ser capturado na casa 11 : 14.771534601714405\n",
      "Média de saltos até ser capturado na casa 12 : 18.161582259514535\n",
      "Média de saltos até ser capturado na casa 13 : 20.439284192586282\n",
      "Média de saltos até ser capturado na casa 14 : 21.047998711443988\n",
      "Média de saltos até ser capturado na casa 15 : 15.028178936245157\n",
      "Média de saltos até ser capturado na casa 16 : 18.481325933703314\n",
      "Média de saltos até ser capturado na casa 17 : 20.605553981297817\n",
      "Média de saltos até ser capturado na casa 18 : 21.021675494842487\n",
      "Média de saltos até ser capturado na casa 19 : 19.23550599154949\n",
      "Média de saltos até ser capturado na casa 21 : 20.847261235955056\n",
      "Média de saltos até ser capturado na casa 22 : 21.132173630304017\n",
      "Média de saltos até ser capturado na casa 23 : 19.403069300116993\n",
      "Média de saltos até ser capturado na casa 24 : 13.96762957179749\n",
      "\n",
      "A casa com maior média de saltos até ser capturado é a 22 com média de 21.132173630304017 saltos\n"
     ]
    }
   ],
   "source": [
    "maior = 0\n",
    "for i in [0, 1, 2, 3, 5, 6, 7, 8, 9, 10, 11, 12, 13, 14, 15, 16, 17, 18, 19, 21, 22, 23, 24]:\n",
    "    media = media_saltos_captura(i, P, 50000)\n",
    "    print(\"Média de saltos até ser capturado na casa\", i, \":\", media)\n",
    "    if media > maior:\n",
    "        maior = media\n",
    "        casa = i\n",
    "\n",
    "print(\"\\nA casa com maior média de saltos até ser capturado é a\", casa, \"com média de\", maior, \"saltos\")\n"
   ]
  },
  {
   "cell_type": "code",
   "execution_count": 131,
   "metadata": {},
   "outputs": [
    {
     "name": "stdout",
     "output_type": "stream",
     "text": [
      "Média de saltos até ser capturado na casa 0 : 0.0\n",
      "Média de saltos até ser capturado na casa 1 : 6.265873384772706\n",
      "Média de saltos até ser capturado na casa 2 : 11.489088205669336\n",
      "Média de saltos até ser capturado na casa 3 : 15.244812188074599\n",
      "Média de saltos até ser capturado na casa 5 : 6.253668372886614\n",
      "Média de saltos até ser capturado na casa 6 : 10.41053078884339\n",
      "Média de saltos até ser capturado na casa 7 : 14.93307478643677\n",
      "Média de saltos até ser capturado na casa 8 : 18.37636173705417\n",
      "Média de saltos até ser capturado na casa 9 : 20.645538243626063\n",
      "Média de saltos até ser capturado na casa 10 : 11.513588252121675\n",
      "Média de saltos até ser capturado na casa 11 : 14.902870788558376\n",
      "Média de saltos até ser capturado na casa 12 : 18.245128698580707\n",
      "Média de saltos até ser capturado na casa 13 : 20.32679600731056\n",
      "Média de saltos até ser capturado na casa 14 : 21.263392857142858\n",
      "Média de saltos até ser capturado na casa 15 : 15.249801674746584\n",
      "Média de saltos até ser capturado na casa 16 : 18.494646358015384\n",
      "Média de saltos até ser capturado na casa 17 : 20.46327564373153\n",
      "Média de saltos até ser capturado na casa 18 : 21.149223731632937\n",
      "Média de saltos até ser capturado na casa 19 : 19.19247386759582\n",
      "Média de saltos até ser capturado na casa 21 : 20.81492606284658\n",
      "Média de saltos até ser capturado na casa 22 : 20.88526706470873\n",
      "Média de saltos até ser capturado na casa 23 : 19.197547777245017\n",
      "Média de saltos até ser capturado na casa 24 : 14.045580443159922\n",
      "\n",
      "A casa com maior média de saltos até ser capturado é a 14 com média de 21.263392857142858 saltos\n"
     ]
    }
   ],
   "source": [
    "maior = 0\n",
    "for i in [0, 1, 2, 3, 5, 6, 7, 8, 9, 10, 11, 12, 13, 14, 15, 16, 17, 18, 19, 21, 22, 23, 24]:\n",
    "    media = media_saltos_captura(i, P, 50000)\n",
    "    print(\"Média de saltos até ser capturado na casa\", i, \":\", media)\n",
    "    if media > maior:\n",
    "        maior = media\n",
    "        casa = i\n",
    "\n",
    "print(\"\\nA casa com maior média de saltos até ser capturado é a\", casa, \"com média de\", maior, \"saltos\")"
   ]
  },
  {
   "cell_type": "markdown",
   "metadata": {},
   "source": [
    "Por conta da aleatoriedade adicionada pela casa 24, o número médio de saltos que o inseto dá antes de ser capturado pela armadilha há uma margem de erro perceptível. Por análise, temos que a maior média de saltos é obtida quando o inseto começa na casa 22 mais frequentemente, porém as vezes a casa 14 e 18 são as que mais dão saltos antes de serem capturadas. Tal resultado faz bastante sentido, já que a casa com maior número médio de saltos deve ser uma casa distante da armadilha (exceto a casa 24, devido a sua randomicidade), e as casas 14, 18 e 22 são as mais distantes da armadilha."
   ]
  },
  {
   "cell_type": "markdown",
   "metadata": {},
   "source": [
    "### E) Assumindo que a posição inicial do inseto é a casa central, quantas outras visitas ele faz, em média, à casa central, antes de ser capturado pela armadilha?"
   ]
  },
  {
   "cell_type": "code",
   "execution_count": 98,
   "metadata": {},
   "outputs": [],
   "source": [
    "def visita_casa_central(P, n):\n",
    "    media = 0\n",
    "    for _ in range(0, n):\n",
    "        soma = 0\n",
    "        posicao = 12 # Posição central\n",
    "        while True:\n",
    "            posicao_n = simulacao_tabuleiro(posicao, P)\n",
    "            \n",
    "            # Se cair em uma armadilha ou portal, zera a soma e começa de novo\n",
    "            if posicao_n == 20 or posicao_n == 4:\n",
    "                soma = 0\n",
    "                n -= 1\n",
    "                break\n",
    "\n",
    "            elif posicao == 0:\n",
    "                break\n",
    "\n",
    "            elif posicao_n == 12:\n",
    "                soma += 1\n",
    "            \n",
    "            else:\n",
    "                posicao = posicao_n\n",
    "        media += soma\n",
    "    return media/n"
   ]
  },
  {
   "cell_type": "code",
   "execution_count": 132,
   "metadata": {},
   "outputs": [
    {
     "name": "stdout",
     "output_type": "stream",
     "text": [
      "\n",
      "Média de visitas à casa central: 1.3099557721816049\n"
     ]
    }
   ],
   "source": [
    "print(\"\\nMédia de visitas à casa central:\", visita_casa_central(P, 100000))"
   ]
  }
 ],
 "metadata": {
  "kernelspec": {
   "display_name": "Python 3",
   "language": "python",
   "name": "python3"
  },
  "language_info": {
   "codemirror_mode": {
    "name": "ipython",
    "version": 3
   },
   "file_extension": ".py",
   "mimetype": "text/x-python",
   "name": "python",
   "nbconvert_exporter": "python",
   "pygments_lexer": "ipython3",
   "version": "3.11.5"
  }
 },
 "nbformat": 4,
 "nbformat_minor": 2
}
