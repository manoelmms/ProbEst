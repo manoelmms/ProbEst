{
  "cells": [
    {
      "cell_type": "markdown",
      "metadata": {
        "id": "tKAcyAOyW8W0"
      },
      "source": [
        "# Estatística & Probabilidade - 2023/02\n",
        "\n",
        "## Projeto 01 - Calculando probabilidades com simulação estocástica\n",
        "\n",
        "### Professor: Hugo Tremonte de Carvalho\n",
        "\n",
        "#### Manoel Marcelo da Silva - 121088349\n",
        "\n",
        "#### Vinícius Lima - 1210xxxxx\n"
      ]
    },
    {
      "cell_type": "markdown",
      "metadata": {
        "id": "LsmMcxGPW8W1"
      },
      "source": [
        "# ⚠️ INSTRUÇÕES ⚠️ LEIAM ATENTAMENTE! ⚠️"
      ]
    },
    {
      "cell_type": "markdown",
      "metadata": {
        "id": "aSV-VmQvW8W2"
      },
      "source": [
        "* A data limite de entrega da avaliação é sábado 01/10/2023 às 23h59. Avaliações entregues após esse prazo serão desconsideradas.\n",
        "\n",
        "* A entrega deve ser feita exclusivamente através do Google Classroom, usando a linguagem Python dentro de um notebook do Google Colaboratory, a ser anexado na atividade da seguinte forma:\n",
        "  - Dentro da turma no Google Classroom, clique em \"Atividades\"\n",
        "            \n",
        "  - No tema \"Projetos\", clique em \"Projeto 02\" e em seguida em \"Ver atividade\"\n",
        "            \n",
        "  - No canto superior direito, clique em \"+ Adicionar ou criar\" e em seguida selecione em \"Arquivo\" ou \"Google Drive\", se optar fazer upload do notebook ou selecionar um arquivo de seu Google Drive, respectivamente.\n",
        "            \n",
        "  - O título do notebook deverá ser, obrigatoriamente, \"SEU NOME - Projeto 01\".\n",
        "            \n",
        "  - Para entregar o projeto, abra a atividade que o contém (conforme procedimento explicado no ponto acima), e no canto superior direito clique em \"ENTREGAR\" (o texto estará em uma caixa cinza, mas ele é clicável).\n",
        "            \n",
        "  - Na tela a seguir clique em \"Entregar\" para confirmar a entrega do trabalho.\n",
        "            \n",
        "  - Se você se arrependeu e quiser fazer outra entrega, basta abrir a atividade, no canto superior direito clique em \"Cancelar envio\" e confirme clicando novamente em \"Cancelar envio\" na janela que irá abrir. Você pode fazer isso quantas vezes quiser até o prazo determinado.\n",
        "            \n",
        "  - As explicações que você precisará fazer devem ser feitas em células de texto em seu notebook. Somente comentários pequenos devem ser feitos no código.\n",
        "            \n",
        "  - Caso seja necessário, equações podem ser introduzidas em $\\LaTeX$ nas células de texto.\n",
        "            \n",
        "  - Figuras também podem ser incluídas em células de texto, tanto através de upload quanto simplesmente arrastando-a para alguma célula de texto. Nesse caso, sempre informe a fonte de onde a figura foi retirada, caso não tenha sido gerada por você.\n",
        "\n",
        "* O projeto poderá ser feito **até** em dupla: quem quer fazer sozinho/a faz, mas quem quiser fazer em dupla também tem esse direito. Porém, vamos evitar problemas de \"eu fiz tudo e ele/a não fez nada\"! Infelizmente não tenho como controlar isso, e após o projeto entregue não adianta \"eu fiz tudo sozinho/a\", pois eu não estava lá para ver! Tentem se resolver entre si, mas em último caso posso auxiliar com uma mediação.\n",
        "\n",
        "* No caso de trabalho em dupla, apenas **uma** pessoa da dupla deverá fazer o envio do trabalho, claro, deixando explícito quem é o/a parceiro/a.\n",
        "\n",
        "* A troca de conhecimento na realização da avaliação é permitida e encorajada: ciência se faz com colaboração, e devemos seguir esse espírito aqui. Porém, cada dupla (ou indivíduo) deverá ter a sua própria resolução, e cópias ou outras ilegalidades serão severamente punidas com a anulação da avaliação para o(s) aluno(s) suspeito(s).\n",
        "\n",
        "* Todos os passos de sua resolução devem ser devidamente justificados.\n",
        "\n",
        "* Ao entregar essa avaliação, você afirma ter lido e estar de acordo com essas regras, comprometendo-se a cumpri-las."
      ]
    },
    {
      "cell_type": "markdown",
      "metadata": {
        "id": "DLypPchqnhoc"
      },
      "source": [
        "# O projeto"
      ]
    },
    {
      "cell_type": "markdown",
      "metadata": {
        "id": "FHI5n8V3nw19"
      },
      "source": [
        "O objetivo da atividade é que vocês calculem algumas probabilidades através de simulação estocástica, ou seja, através de um grande número de sorteios aleatórios devidamente projetados para calcular a probabilidade desejada. Algumas dessas probabilidades podem ser calculadas analiticamente com certa facilidade, mas em outros pode ser **bem** difícil (ou mesmo impossível). Dessa forma, o cálculo de probabilidades através de simulação estocástica pode ser tanto uma ferramenta fundamental para resolver algum problema ou para te dar alguma intuição, te guiando para o resultado analítico. Em alguns momentos vocês deverão justficar teoricamente os resultados obtidos, pois senão, não tem graça! 😁"
      ]
    },
    {
      "cell_type": "markdown",
      "metadata": {
        "id": "6jbjorsno16i"
      },
      "source": [
        "## Questão 1: Calculando $\\pi$ jogando dardos"
      ]
    },
    {
      "cell_type": "markdown",
      "metadata": {
        "id": "nscY444bo5vb"
      },
      "source": [
        "#### a) Suponha que num jogo de dardos você tem, pendurado em uma parede, o alvo (círculo de raio 1) devidamente emoldurado (inscrito em um quadrado de lado 2 - as unidades não importam aqui). Porém, suas habilidades ao arremessar um dardo em direção ao alvo são péssimas, e você pode atingir qualquer ponto dentro do quadrado uniformemente (note que, forças ocultas e inexplicáveis do Universo fazem com que seja impossível você acertar *fora* da moldura). Através de um cálculo analítico mostre como que a probabilidade de você acertar o alvo se relaciona com o número $\\pi$."
      ]
    },
    {
      "cell_type": "markdown",
      "metadata": {},
      "source": [
        "Considerando a probabilidade de acertar uniformemente qualquer ponto dentro do quadrado, a probabilidade de acertar o alvo é a razão entre a área do alvo e a área do quadrado. A área do alvo é $\\pi r^2$ e a área do quadrado é $(2r)^2$, então:\n",
        "\n",
        "$$\\mathbb{P} = \\frac{\\text{Eventos de interesse}}{\\text{Espaço amostral}}$$\n",
        "$$\\mathbb{P} = \\frac{\\text{Área do círculo}}{\\text{Área do quadrado}}$$\n",
        "$$\\mathbb{P} = \\frac{\\pi r^2}{(2r)^2}$$\n",
        "$$\\mathbb{P} = \\frac{\\pi}{4}$$\n",
        "$$\\pi = 4\\mathbb{P}$$\n",
        "\n",
        "Portanto, $\\pi$ é quatro vezes a probabilidade de acertar o alvo."
      ]
    },
    {
      "cell_type": "markdown",
      "metadata": {
        "id": "UGFvm7FaqMPi"
      },
      "source": [
        "#### b) Utilizando geração de números aleatórios, faça uma simulação para estimar o valor de $\\pi$ através do procedimento acima. Ou seja, simule que dardos são arremessados uniformemente no quadrado e utilize a interpretação frequentista da probabilidade para aproximar o valor de $\\pi$. Note que você precisará de \"muitas\" tentativas para ter uma boa estimativa. O quão grande você acha que \"muitas\" deve ser?"
      ]
    },
    {
      "cell_type": "code",
      "execution_count": 1,
      "metadata": {},
      "outputs": [],
      "source": [
        "import random\n",
        "import numpy as np"
      ]
    },
    {
      "cell_type": "code",
      "execution_count": 2,
      "metadata": {},
      "outputs": [],
      "source": [
        "def simulacao_pi(n):\n",
        "    \n",
        "    dentro = 0\n",
        "    fora = 0\n",
        "    \n",
        "    for _ in range(n):\n",
        "        x = random.random() #Escolhe um número uniformemente aleatório entre 0 e 1 para x no primeiro quadrante\n",
        "        y = random.random() #Escolhe um número uniformemente aleatório entre 0 e 1 para y no primeiro quadrante\n",
        "        \n",
        "        if (x**2 + y**2) > 1: # Usa desigualdade triangular para identificar se o ponto está fora do círculo\n",
        "            fora += 1\n",
        "        else:\n",
        "            dentro += 1\n",
        "    \n",
        "    print(f'Pontos dentro: {dentro}')\n",
        "    print(f'Pontos fora: {fora}')\n",
        "    print(f'Total: {dentro + fora}')\n",
        "    \n",
        "    return float(4 * dentro / (dentro + fora))\n"
      ]
    },
    {
      "cell_type": "markdown",
      "metadata": {},
      "source": [
        "Mesmo princípio do código acima, porém com execução mais rápida."
      ]
    },
    {
      "cell_type": "code",
      "execution_count": 3,
      "metadata": {},
      "outputs": [],
      "source": [
        "def simulacao_pi_rapido(n):\n",
        "    \n",
        "    \"\"\"Simula n pontos aleatóios no quadrado de lado 2 e retorna a aproximação de pi.\"\"\"\n",
        "    \n",
        "    x = np.random.uniform(0, 1, n) #Escolhe n números aleatórios entre 0 e 1 para x no primeiro quadrante\n",
        "    y = np.random.uniform(0, 1, n) #Escolhe n números aleatórios entre 0 e 1 para y no primeiro quadrante\n",
        "    \n",
        "    return (4 * np.mean(x**2 + y**2 <= 1)) #Multiplica por 4 a média dos pontos dentro do círculo"
      ]
    },
    {
      "cell_type": "code",
      "execution_count": 4,
      "metadata": {},
      "outputs": [
        {
          "name": "stdout",
          "output_type": "stream",
          "text": [
            "Erro da simulação com 100 de pontos:  0.2615926535897932\n",
            "Erro da simulação com 10000 de pontos:  0.008792653589793087\n",
            "Erro da simulação com 100000000 de pontos:  0.0003710664102070105\n"
          ]
        }
      ],
      "source": [
        "print(\"Erro da simulação com 100 de pontos: \", abs(np.pi - simulacao_pi_rapido(100)))\n",
        "print(\"Erro da simulação com 10000 de pontos: \", abs(np.pi - simulacao_pi_rapido(10000)))\n",
        "print(\"Erro da simulação com 100000000 de pontos: \", abs(np.pi - simulacao_pi_rapido(100000000)))\n",
        "#print(\"Erro da simulação com 1000000000 de pontos: \", abs(np.pi - simulacao_pi_rapido(1000000000)))\n",
        "\n"
      ]
    },
    {
      "cell_type": "markdown",
      "metadata": {},
      "source": [
        "A aproximação de $\\pi$ não é ótima, pois requer muitas iterações para se aproximar de $\\pi$ com um erro relativamente alto. Percebemos de forma empírica que o erro reduz conforme o número de iterações aumenta, isso faz sentido, pois quanto mais pontos gerados (tentendo ao infinito), mais próximo do valor real de $\\pi$ estaremos. Contudo, há a questão da eficiência, pois quanto mais pontos gerados, mais tempo o algoritmo leva para executar. Além disso, o resultado é impactado pela randomicidade dos pontos gerados, o que influencia no erro.\n",
        "\n",
        "Assim, o número de iterações deve ser grande o suficiente para que o erro seja aceitável, mas não tão grande a ponto de tornar o algoritmo ineficiente. Nesse contexto, o maior número viável para se computar é o $n = 100000000$ ou $10^8$, o que dá uma aproximação de $\\pi$ com erro médio de $0.0001$ ou $10^{-4}$. Acima disso, o tempo de execução é inviável."
      ]
    },
    {
      "cell_type": "markdown",
      "metadata": {
        "id": "LaL7ZvrFqrGd"
      },
      "source": [
        "## Questão 2: O problema de Monty Hall"
      ]
    },
    {
      "cell_type": "markdown",
      "metadata": {
        "id": "QOr2y6H6rASi"
      },
      "source": [
        "Em um famoso programa de televisão da década de 70 nos Estados Unidos, Monty Hall, o apresentador, apresentava três portas aos concorrentes. Atrás de uma delas estava um prêmio e, atrás das outras duas não havia nada. A interação se dava em três etapas:\n",
        "\n",
        "* Na 1a. etapa o concorrente escolhe uma das três portas (que ainda não é aberta);\n",
        "* Na 2a. etapa, Monty abre uma das outras duas portas que o concorrente não escolheu, revelando que o prêmio não se encontra nessa porta e revelando uma porta vazia (note que o apresentador **sempre** irá abrir uma porta que está vazia, e **nunca** a porta com o prêmio);\n",
        "* Na 3a. etapa Monty pergunta ao concorrente se quer decidir permanecer com a porta que escolheu no início do jogo ou se ele pretende mudar para a outra porta que ainda está fechada para então a abrir. Agora, com duas portas apenas para escolher — pois uma delas já se viu, na 2a. etapa, que não tinha o prêmio — e sabendo que o prêmio está atrás de uma das restantes duas, o concorrente tem que tomar a decisão.\n",
        "\n",
        "O objetivo dessa questão é estudar qual é a estratégia mais lógica: ficar com a porta escolhida inicialmente ou mudar de porta? Do ponto de vista probablístico, com qual das duas portas ainda fechadas o concorrente tem mais probabilidades de ganhar?"
      ]
    },
    {
      "cell_type": "markdown",
      "metadata": {
        "id": "M2_R56AUv8iz"
      },
      "source": [
        "#### a) Primeiramente, pensando do ponto de vista do participante, argumente se é mais razoável que ele tome sua decisão pensando do ponto de vista da interpretação frequentista ou subjetiva do conceito de probabilidade. Claro, justifique sua escolha!\n",
        "\n",
        "Obs.: Esse item é engraçado pois uma vez que o cálculo da probabilidade independe da interpretação escolhida, qualquer resposta é válida, do ponto de vista formal. Porém, a graça aqui é *como* você vai fazer a sua justificativa para a interpretação escolhida!"
      ]
    },
    {
      "cell_type": "markdown",
      "metadata": {
        "id": "6UBqZEFWwM7e"
      },
      "source": [
        "Assumir uma interpretação frequentista nesse problema pode ser vantajoso no caso do apresentador ser enviezado, ou seja, não possuir uma distribuição uniforme na posição da porta do prêmio. Nesse caso, o apresentador pode ter uma preferência por uma porta específica, o que pode ser explorado pelo participante. Além disso, é possível perceber se a possibilidade de trocar de porta é mais vantajosa analisando o resultado de participantes anteriores. Assim, a partir de dados anteriores, é possível encontrar um padrão em que trocar a porta é mais vantajoso ou não.\n",
        "\n",
        "Contudo, caso não haja muitos dados ou o apresentador é muito imprevisível, a interpretação subjetiva é mais vantajosa, pois o participante pode escolher sempre maximizar sua probabilidade de ganhar, independente do apresentador ou de dados anteriores a partir da intuição de que trocar a porta sempre é vantagem (o que no caso é verdade, estaríamos ganhando 33% a mais de chance de ganhar). Nesse caso, o participante pode escolher sempre trocar a porta, pois sua probabilidade de ganhar é maior.\n",
        "\n",
        "Ambas as interpretações são válidas dependendo do contexto em que o problema está inserido.\n"
      ]
    },
    {
      "cell_type": "markdown",
      "metadata": {
        "id": "RY65vLyfwNnN"
      },
      "source": [
        "#### b) Talvez você já saiba a resposta para esse problema, uma vez que ele é bem famoso, mas não tem problema! Faça simulações para encontrar qual é o melhor cenário para o participante: manter sua escolha inicial ou mudar de porta. Justifique, **intuitivamente** (ou seja, **sem fazer contas**) porque essa escolha é razoável."
      ]
    },
    {
      "cell_type": "code",
      "execution_count": 5,
      "metadata": {},
      "outputs": [],
      "source": [
        "def monty_hall(n, p):\n",
        "    \n",
        "    \"\"\"Simula n vezes o jogo Monty Hall um número p de portas e retorna a probabilidade de ganhar se trocar de porta.\"\"\"\n",
        "    \n",
        "    ganhou = 0\n",
        "    \n",
        "    for _ in range(n):\n",
        "        porta = np.random.randint(1, p+1) #Escolhe uma porta aleatória\n",
        "        premio = np.random.randint(1, p+1) #Escolhe uma porta aleatória para o prêmio\n",
        "        \n",
        "        if porta != premio: #Se a porta escolhida for diferente da porta do prêmio\n",
        "            ganhou += 1 #Troca de porta e ganha o prêmio\n",
        "    \n",
        "    return ganhou / n #Retorna a probabilidade de ganhar"
      ]
    },
    {
      "cell_type": "code",
      "execution_count": 6,
      "metadata": {},
      "outputs": [
        {
          "name": "stdout",
          "output_type": "stream",
          "text": [
            "Probabilidade de ganhar se trocar de porta com 3 portas:  0.66594\n",
            "Probabilidade de ganhar se trocar de porta com 4 portas:  0.750597\n",
            "Probabilidade de ganhar se trocar de porta com 999 portas:  0.99902\n"
          ]
        }
      ],
      "source": [
        "print(\"Probabilidade de ganhar se trocar de porta com 3 portas: \", monty_hall(1000000, 3))\n",
        "print(\"Probabilidade de ganhar se trocar de porta com 4 portas: \", monty_hall(1000000, 4))\n",
        "print(\"Probabilidade de ganhar se trocar de porta com 999 portas: \", monty_hall(1000000, 999))"
      ]
    },
    {
      "cell_type": "markdown",
      "metadata": {},
      "source": [
        "O problema de Monty Hall é um problema clássico de probabilidade, em que nesse jogo a probalilidade de ganhar é maior se o participante escolher trocar de porta, apesar de não ser muito intuitivo (já que a maioria das pessoas assumem que a probabilidade é 50% erroneamente) é mais fácil analisar esse problema mudando o número de portas para um valor extremente grande.\n",
        "\n",
        "Vamos assumir que temos agora 1000 portas para escolher uma delas, ao decorrer do jogo, o apresentador vai remover todas as outras portas vazias e deixar apenas duas portas, a porta escolhida pelo participante e outra porta. Nesse caso, a probabilidade de ganhar é de 99.9% se o participante escolher trocar de porta, pois a probabilidade de escolher a porta com o prêmio é de 1/1000 inicialmente, enquanto a probabilidade das portas restantes de ter o prêmio aumentam cada vez que o apresentador remove uma porta. Isso acontece porque o apresentador sempre remove uma porta vazia, nunca uma com o prêmio. Assim, a probabilidade de ganhar se o participante escolher trocar de porta é de 999/1000, enquanto a probabilidade de ganhar se o participante escolher manter a porta é de 1/1000.\n",
        "\n",
        "O mesmo princípio existe com 3 portas. Imagine 2 grupos, um com apenas 1 porta que o participante escolheu inicialmente e outro com o restante das portas. A \"porcentagem\" da porta que o apresentador remove ainda pertence ao grupo em que ela reside, assim, a probabilidade de ganhar se o participante escolher trocar de porta é de 2/3, enquanto a probabilidade de ganhar se o participante escolher manter a porta é de 1/3. Sendo mostrado acima pela simulação e logo abaixo pela solução analítica usando probabilidade condicional."
      ]
    },
    {
      "cell_type": "markdown",
      "metadata": {
        "id": "i9P5y-aBw31c"
      },
      "source": [
        "#### c) Agora sim, justifique fazendo as contas a probabilidade encontrada no item b). Caso você pesquise por aí, você vai encontrar algumas soluções utilizando o Teorema de Bayes. Como nós não vimos ainda tal conteúdo, tente fazer somente com probabilidade condicional. Juro que é possível, e vai ser legal para treinar o conceito recém-aprendido."
      ]
    },
    {
      "cell_type": "markdown",
      "metadata": {},
      "source": [
        "Considere três eventos:\n",
        "\n",
        "$A$ = Evento em que o prêmio está na porta B\n",
        "\n",
        "$B$ = Evento em que o participante escolhe a porta B\n",
        "\n",
        "$C$ = Evento em que o apresentador abre a porta A\n",
        "\n",
        "Para o participante ganhar o prêmio em que esteja na primeira porta escolhida, ele deve escolher a porta B e o apresentador abrir a porta A. Portanto, a probabilidade de ganhar o prêmio em que esteja na primeira porta escolhida é:\n",
        "\n",
        "$$\\mathbb{P}(A|BC) = \\frac{\\mathbb{P}(ABC)}{\\mathbb{P}(BC)}$$\n",
        "\n",
        "Decompondo $ \\mathbb{P}(ABC) $ em $ \\mathbb{P}(C|AB)*\\mathbb{P}(AB) $ e $ \\mathbb{P}(BC) $ em $ \\mathbb{P}(C|B)*\\mathbb{P}(B) $ pela definição de probabilidade condicional e pela regra da multiplicação, temos:\n",
        "\n",
        "$$\\mathbb{P}(A|BC) = \\frac{\\mathbb{P}(ABC)}{\\mathbb{P}(B)*\\mathbb{P}(C|B)}$$\n",
        "$$\\mathbb{P}(A|BC) = \\frac{\\mathbb{P}(C|AB)*\\mathbb{P}(AB)}{\\mathbb{P}(B)*\\mathbb{P}(C|B)}$$\n",
        "$$\\mathbb{P}(A|BC) = \\frac{\\mathbb{P}(C|AB)*\\mathbb{P}(B|A)*\\mathbb{P}(A)}{\\mathbb{P}(B)*\\mathbb{P}(C|B)}$$\n",
        "\n",
        "Como o apresentador sempre abre uma porta sem prêmio, então $\\mathbb{P}(C|AB) = 1/2$ e $\\mathbb{P}(C|B) = 1/2$, pois há duas portas livres para ele escolher livremente.\n",
        "Além disso, $\\mathbb{P}(B|A) = 1/3$, $\\mathbb{P}(B) = 1/3$ e $\\mathbb{P}(A) = 1/3$. Portanto:\n",
        "\n",
        "$$\\mathbb{P}(A|BC) = \\frac{1/2*1/3*1/3}{1/3*1/2}$$\n",
        "$$\\mathbb{P}(A|BC) = \\frac{1}{3}$$\n",
        "\n",
        "Assim, seu complementar é o evento em que o prêmio não está na primeira porta escolhida, ou seja, está na segunda ou terceira porta. Portanto, a probabilidade de ganhar o prêmio em que esteja na segunda ou terceira porta é: \n",
        "$$\\mathbb{P}(A^{c}|BC) = 1 - \\mathbb{P}(A|BC)$$\n",
        "$$\\mathbb{P}(A^{c}|BC) = \\frac{2}{3}$$\n"
      ]
    },
    {
      "cell_type": "markdown",
      "metadata": {
        "id": "O5OXB7gtxKCL"
      },
      "source": [
        "## Questão 3: Jogo da velha aleatório"
      ]
    },
    {
      "cell_type": "markdown",
      "metadata": {
        "id": "IvZ5zfcTxVYx"
      },
      "source": [
        "Agora, vamos tentar estimar uma probabilidade cujo cálculo analítico é bem mais complexo. Suponha que dois jogadores joguem jogo da velha porém com uma estratégia um pouco exótica: cada jogador escolhe a casa onde irá marcar $\\times$ ou $\\circ$ uniformemente dentre as casas vazias. Exemplificando, o primeiro jogador marca $\\times$ em uma das 9 casas com igual probabilidade; o segundo marca $\\circ$ em uma das 8 casas restantes com igual probabilidade; e assim sucessivamente até algum jogador ganhar (linha, coluna ou diagonal completa com $\\times$ ou $\\circ$) ou empatar (todas as células preenchidas porém sem nenhuma linha nem coluna nem diagonal completa com $\\times$ ou $\\circ$)."
      ]
    },
    {
      "cell_type": "markdown",
      "metadata": {
        "id": "psZKODw_zLMj"
      },
      "source": [
        "#### a) Encontre uma aproximação para a probabilidade do jogo **não** terminar em empate. Tente encontrar uma justificativa intuitiva para sua resposta."
      ]
    },
    {
      "cell_type": "markdown",
      "metadata": {
        "id": "VQSdGXm5zWH7"
      },
      "source": [
        "Para encontrar a probabilidade do jogo não terminar em empate, buscamos determinar as chances de vitória do primeiro jogador **ou** do segundo jogador. Para isso, simulamos uma grande quantidade de jogos da velha a fim de contabilizar as vitórias do primeiro jogador, do segundo jogador e dos empates. Nosso código conta com os seguintes passos:\n",
        "\n",
        "\n",
        "- Dado um tabuleiro vazio de jogo da velha, escolhemos aleatoriamente uma casa dentre as $9$ disponíveis a cada rodada para preenchê-la com \"X\" (dá inicío à primeira rodada) e \"O\" sucessivamente.\n",
        "\n",
        "- Sendo completada uma combinação de vitória para o jogador \"X\" ou \"O\", o jogo termina e uma vitória é acrescentada na contagem `vitoriasX` ou `vitoriasO`.\n",
        "\n",
        "- Após $9$ rodadas (máximo possível tendo em vista o número de casas do tabuleiro), não havendo vitória para nenhum dos jogadores, o jogo termina empatado e, portanto, um empate é contabilizado na contagem `empates`.\n",
        "\n",
        "- Ao final de um número considerável de partidas (previamente determinado em `numJogos`), é possível verificar o valor das probabilidades de vitórias e empates, os quais são obtidos conforme a fórmula: $\\mathbb{P} = \\frac{\\text{Eventos de interesse}}{\\text{Espaço amostral}}$ . Logo, as probabilidades de vitória do jogador \"X\", do jogador \"O\" e de empates são dadas respectivamente por `vitoriasX/numJogos`, `vitoriasO/numJogos` e `empates/numJogos`.\n",
        "\n",
        "\n",
        "Para verificarmos uma vitória de um dos jogadores, é necessário que, a cada rodada, pelo menos uma das seguintes combinações ocorra nas casas do tabuleiro ao serem preenchidas com \"X\" ou \"O\":\n",
        "\n",
        "1. Uma das três linhas na horizontal completamente preenchidas ($3$ combinações);\n",
        "\n",
        "2. Uma das três colunas na vertical completamente preechidas ($3$ combinações);\n",
        "\n",
        "3. Uma das duas diagonais completamente preenchidas ($2$ combinações).\n",
        "\n",
        "\n",
        "Assim, sendo inicialmente $8$ o total de combinações de vitória para cada jogador, podemos simular os jogos da velha com o seguinte código:"
      ]
    },
    {
      "cell_type": "code",
      "execution_count": 7,
      "metadata": {},
      "outputs": [
        {
          "name": "stdout",
          "output_type": "stream",
          "text": [
            "Vitórias X: 58.36%\n",
            "Vitórias O: 28.93%\n",
            "Empates: 12.71%\n"
          ]
        }
      ],
      "source": [
        "def jogoDaVelha(numCasas):\n",
        "  tabuleiro = np.zeros(numCasas)\n",
        "  rodadaX = True\n",
        "\n",
        "  for rodada in range(numCasas):\n",
        "    # Seleciona uma casa aleatoriamente\n",
        "    casa = random.randint(0, numCasas - 1)\n",
        "\n",
        "    # Busca uma casa ainda não preenchida\n",
        "    while(tabuleiro[casa] > 0):\n",
        "      casa = random.randint(0, numCasas - 1)\n",
        "\n",
        "    # Marca uma casa com \"X\" ou \"O\" dependendo da rodada\n",
        "    if(rodadaX):\n",
        "      tabuleiro[casa] = 1\n",
        "    else:\n",
        "      tabuleiro[casa] = 2\n",
        "\n",
        "    # Altera entre a rodada \"X\" e \"O\"\n",
        "    rodadaX = not rodadaX\n",
        "\n",
        "    # Para a função se o jogo tiver terminado\n",
        "    if numCasas == 27:\n",
        "      resultado = verificaResultadoTridimencional(tabuleiro, rodada)\n",
        "    else:\n",
        "      resultado = verificaResultado(tabuleiro, rodada)\n",
        "\n",
        "    if resultado >= 0:\n",
        "      break\n",
        "\n",
        "  return resultado\n",
        "\n",
        "\n",
        "def verificaResultado(tabuleiro, rodada):\n",
        "  # Casos de vitória \"X\"\n",
        "  if tabuleiro[0] == 1 and tabuleiro[1] == 1 and tabuleiro[2] == 1: return 1\n",
        "  elif tabuleiro[3] == 1 and tabuleiro[4] == 1 and tabuleiro[5] == 1: return 1\n",
        "  elif tabuleiro[6] == 1 and tabuleiro[7] == 1 and tabuleiro[8] == 1: return 1\n",
        "\n",
        "  elif tabuleiro[0] == 1 and tabuleiro[3] == 1 and tabuleiro[6] == 1: return 1\n",
        "  elif tabuleiro[1] == 1 and tabuleiro[4] == 1 and tabuleiro[7] == 1: return 1\n",
        "  elif tabuleiro[2] == 1 and tabuleiro[5] == 1 and tabuleiro[8] == 1: return 1\n",
        "\n",
        "  elif tabuleiro[0] == 1 and tabuleiro[4] == 1 and tabuleiro[8] == 1: return 1\n",
        "  elif tabuleiro[2] == 1 and tabuleiro[4] == 1 and tabuleiro[6] == 1: return 1\n",
        "\n",
        "  # Casos de vitória \"O\"\n",
        "  elif tabuleiro[0] == 2 and tabuleiro[1] == 2 and tabuleiro[2] == 2: return 2\n",
        "  elif tabuleiro[3] == 2 and tabuleiro[4] == 2 and tabuleiro[5] == 2: return 2\n",
        "  elif tabuleiro[6] == 2 and tabuleiro[7] == 2 and tabuleiro[8] == 2: return 2\n",
        "\n",
        "  elif tabuleiro[0] == 2 and tabuleiro[3] == 2 and tabuleiro[6] == 2: return 2\n",
        "  elif tabuleiro[1] == 2 and tabuleiro[4] == 2 and tabuleiro[7] == 2: return 2\n",
        "  elif tabuleiro[2] == 2 and tabuleiro[5] == 2 and tabuleiro[8] == 2: return 2\n",
        "\n",
        "  elif tabuleiro[0] == 2 and tabuleiro[4] == 2 and tabuleiro[8] == 2: return 2\n",
        "  elif tabuleiro[2] == 2 and tabuleiro[4] == 2 and tabuleiro[6] == 2: return 2\n",
        "\n",
        "  else:\n",
        "    # Verifica se é a última rodada e determina o empate\n",
        "    if rodada == 8: return 0\n",
        "    else: return -1\n",
        "\n",
        "\n",
        "# Simulando os jogos\n",
        "numJogos = 100000\n",
        "vitoriasX = 0.\n",
        "vitoriasO = 0.\n",
        "empates = 0.\n",
        "\n",
        "for i in range(numJogos):\n",
        "  resultado = jogoDaVelha(9)\n",
        "  if resultado == 0: empates += 1\n",
        "  elif resultado == 1: vitoriasX += 1\n",
        "  elif resultado == 2: vitoriasO += 1\n",
        "\n",
        "# Imprimindo resultados\n",
        "print(f'Vitórias X: {round((vitoriasX / numJogos) * 100, 2)}%')\n",
        "print(f'Vitórias O: {round((vitoriasO / numJogos) * 100, 2)}%')\n",
        "print(f'Empates: {round((empates / numJogos) * 100, 2)}%')"
      ]
    },
    {
      "cell_type": "markdown",
      "metadata": {},
      "source": [
        "Portanto, dadas as probabilidades acima considerando uma simulação de $100000$ jogos, podemos concluir que a chance de um jogo não terminar em empate é de aproximadamente:\n",
        "\n",
        "$\\text{vitóriasX + vitoriasO} = 58,59\\% + 28,84\\% = 87,43\\%$\n",
        "\n",
        "Tal resultado se mostra consistente, já que intuitivamente há menos possibilidades de ocorrer empate do que vitória para um dos jogadores, uma vez que, para que haja empate, é necessário que todas as casas do tabuleiro sejam preenchidas sem que nenhuma das combinações de vitória ocorra, e isso só pode ser possível de acontecer em 3 tipos de posições no tabuleiro apenas. \n",
        "\n",
        "Por outro lado, para que haja vitória de um dos jogadores, basta que uma das combinações de vitória ocorra, o que é mais provável de acontecer do que o empate pois há muito mais combinações de posições para um dos jogadores ganhar. \n",
        "\n",
        "Isso também acontece pois estamos analisando um jogo com posições aleatórias, ou seja, não há uma estratégia definida para que um dos jogadores vença, o que torna o jogo mais imprevisível e, portanto, mais provável de terminar em vitória para um dos jogadores do que em empate."
      ]
    },
    {
      "cell_type": "markdown",
      "metadata": {
        "id": "2Vfan0FPzWfw"
      },
      "source": [
        "#### b) Dentre os jogos que não terminam empatados, qual jogador tem mais chances de ganhar, se ambos utilizam essa estratégia: o jogador que começa ou o segundo jogador? Tente encontrar uma justificativa intuitiva para sua resposta."
      ]
    },
    {
      "cell_type": "markdown",
      "metadata": {
        "id": "91y2XZ2dzeqp"
      },
      "source": [
        "Ao analisarmos as probabilidades obtidas no item **(a)**, considerando a aleatoriade das jogadas, é possível obter facilmente o jogador com mais chances de ganhar dentre os jogos que não terminam empatados. Para isso, basta manteremos o número de vitórias dos jogadores \"X\" e \"O\" como *eventos de interesse* e limitar o *espaço amostral* a somente os jogos que não terminaram empatados (dados por `vitoriasX + vitoriasO`).\n",
        "\n",
        "Assim, podemos ver pelo seguinte código que o primeiro jogador, isto é o jogador \"X\", é o que tem mais chances de ganhar dentre os jogos não empatados:"
      ]
    },
    {
      "cell_type": "code",
      "execution_count": 8,
      "metadata": {},
      "outputs": [
        {
          "name": "stdout",
          "output_type": "stream",
          "text": [
            "----- Jogos que não terminam empatados -----\n",
            "\n",
            "Chance do jogador \"X\" ganhar: 66.86%\n",
            "Chance do jogador \"O\" ganhar: 33.14%\n"
          ]
        }
      ],
      "source": [
        "jogosNaoEmpatados = vitoriasX + vitoriasO\n",
        "\n",
        "# Imprimindo resultados\n",
        "print('----- Jogos que não terminam empatados -----\\n')\n",
        "print(f'Chance do jogador \"X\" ganhar: {round((vitoriasX / jogosNaoEmpatados) * 100, 2)}%')\n",
        "print(f'Chance do jogador \"O\" ganhar: {round((vitoriasO / jogosNaoEmpatados) * 100, 2)}%')"
      ]
    },
    {
      "cell_type": "markdown",
      "metadata": {},
      "source": [
        "Isto ocorre pelo fato de, como o jogador \"X\" é o primeiro jogar, ele limita inicialmente o *espaço amostral* das combinações possíveis para a vitória do jogador \"O\". Dessa forma, apesar da aleatoriedade da jogada do jogador \"X\" a cada rodada, as posições favoráveis ao jogador \"O\" na rodada seguinte é sempre menor. Isso fica claro quando analisamos, por exemplo, a primeira rodada:\n",
        "\n",
        "- O jogador \"X\" preenche aleatoriamente uma casa e limita o tabuleiro a $8$ casas.\n",
        "\n",
        "- Logo, a partir daí, todas as possibilidades de vitória do jogador \"O\" que utilizam a casa já preenchida por \"X\" são descartadas.\n",
        "\n",
        "- Portanto, o jogador \"O\" não pode mais ganhar em uma das horizontais, uma das verticais e, em $\\frac{5}{9}$ das vezes, uma das diagonais (se o \"X\" estiver em quaisquer $5$ das $9$ casas do tabuleiro as quais compõem uma das diagonais).\n",
        "\n",
        "Assim, fica claro que o primeiro jogador, isto é, o jogador \"X\" tem mais chances de ganhar dentre os jogos que não terminam empatados."
      ]
    },
    {
      "cell_type": "markdown",
      "metadata": {
        "id": "ydxZsnFe0by_"
      },
      "source": [
        "#### c) Responda às mesmas perguntas dos itens a) e b), porém para um *jogo da velha tridimensional*: ou seja, em vez do jogo acontecer em uma grade bidimensional de tamanho $3 \\times 3$, agora ele acontece em uma grade tridimensional de tamanho $3 \\times 3 \\times 3$! 🤯 Tome cuidado pois agora há diversas formas de um jogador ganhar uma partida! Além de ser através do completamento de alguma linha, coluna ou diagonal de qualquer \"sub-tabuleiro\" plano do cubo $3 \\times 3 \\times 3$ (existem 9 desses tabuleiros), o jogador poderá ainda completar as diagonais do cubo que unem vértices opostos (4 no total)."
      ]
    },
    {
      "cell_type": "markdown",
      "metadata": {
        "id": "iUJS3YwD4wrA"
      },
      "source": [
        "Tal como no jogo da velha comum, podemos encontrar a probabilidade do jogo não terminar em empate ao encontrar as chances de vitória do primeiro ou do segundo jogador. Logo, nosso código utiliza da mesma estrutura principal de simular uma grande quantidade de jogos e, assim, contabilizar o número de vitórias \"X\", vitórias \"O\" e empates.  \n",
        "\n",
        "Porém, diferentemente do jogo comum, o jogo da velha tridimencional conta com bem mais combinações de vitória para os jogadores. Dessa forma, a cada rodada, verificamos se pelo menos uma das seguintes combinações ocorre nas casas do tabuleiro ao serem preenchidas com \"X\" ou \"O\" (considerando que os planos no jogo tridimencional são obtidos por secções horizontais entre os tabuleiros):\n",
        "\n",
        "1. Uma das três linhas na horizontal em um mesmo plano completamente preenchida ($3 \\times 3 \\text{ planos} = 9 \\text{ combinações}$);\n",
        "\n",
        "2. Uma das três colunas na vertical em um mesmo plano completamente preenchida ($3 \\times 3 \\text{ planos} = 9 \\text{ combinações}$);\n",
        "\n",
        "3. Uma das nove colunas na vertical que corta os três planos completamente preenchida ($9$ combinações);\n",
        "\n",
        "4. Uma das duas diagonais em um mesmo plano completamente preenchida ($2 \\times 3 \\text{ planos} = 6 \\text{ combinações}$);\n",
        "\n",
        "5. Uma das doze diagonais que cortam os três planos em uma mesma secção vertical \"do cubo\" completamente preenchida ($12$ combinações);\n",
        "\n",
        "6. Uma das 4 diagonais que cortam os três planos indo de um vértice a outro \"do cubo\" completamente preenchida ($4$ combinações);\n",
        "\n",
        "\n",
        "Assim, sendo inicialmente $49$ o total de combinações de vitória para cada jogador, podemos simular os jogos da velha com o seguinte código:"
      ]
    },
    {
      "cell_type": "code",
      "execution_count": 9,
      "metadata": {},
      "outputs": [
        {
          "name": "stdout",
          "output_type": "stream",
          "text": [
            "Vitórias X: 56.37%\n",
            "Vitórias O: 43.63%\n",
            "Empates: 0.0%\n",
            "\n",
            "----- Jogos que não terminam empatados -----\n",
            "\n",
            "Chance do jogador \"X\" ganhar: 56.37%\n",
            "Chance do jogador \"O\" ganhar: 43.63%\n"
          ]
        }
      ],
      "source": [
        "def verificaResultadoTridimencional(tabuleiro, rodada):\n",
        "  # Casos de vitória \"X\"\n",
        "\n",
        "  # Horizontal no mesmo plano\n",
        "  if tabuleiro[0] == 1 and tabuleiro[1] == 1 and tabuleiro[2] == 1: return 1\n",
        "  elif tabuleiro[3] == 1 and tabuleiro[4] == 1 and tabuleiro[5] == 1: return 1\n",
        "  elif tabuleiro[6] == 1 and tabuleiro[7] == 1 and tabuleiro[8] == 1: return 1\n",
        "\n",
        "  elif tabuleiro[9] == 1 and tabuleiro[10] == 1 and tabuleiro[11] == 1: return 1\n",
        "  elif tabuleiro[12] == 1 and tabuleiro[13] == 1 and tabuleiro[14] == 1: return 1\n",
        "  elif tabuleiro[15] == 1 and tabuleiro[16] == 1 and tabuleiro[17] == 1: return 1\n",
        "\n",
        "  elif tabuleiro[18] == 1 and tabuleiro[19] == 1 and tabuleiro[20] == 1: return 1\n",
        "  elif tabuleiro[21] == 1 and tabuleiro[22] == 1 and tabuleiro[23] == 1: return 1\n",
        "  elif tabuleiro[24] == 1 and tabuleiro[25] == 1 and tabuleiro[26] == 1: return 1\n",
        "\n",
        "  # Vertical no mesmo plano\n",
        "  elif tabuleiro[0] == 1 and tabuleiro[3] == 1 and tabuleiro[6] == 1: return 1\n",
        "  elif tabuleiro[1] == 1 and tabuleiro[4] == 1 and tabuleiro[7] == 1: return 1\n",
        "  elif tabuleiro[2] == 1 and tabuleiro[5] == 1 and tabuleiro[8] == 1: return 1\n",
        "\n",
        "  elif tabuleiro[9] == 1 and tabuleiro[12] == 1 and tabuleiro[15] == 1: return 1\n",
        "  elif tabuleiro[10] == 1 and tabuleiro[13] == 1 and tabuleiro[16] == 1: return 1\n",
        "  elif tabuleiro[11] == 1 and tabuleiro[14] == 1 and tabuleiro[17] == 1: return 1\n",
        "\n",
        "  elif tabuleiro[18] == 1 and tabuleiro[21] == 1 and tabuleiro[24] == 1: return 1\n",
        "  elif tabuleiro[19] == 1 and tabuleiro[22] == 1 and tabuleiro[25] == 1: return 1\n",
        "  elif tabuleiro[20] == 1 and tabuleiro[23] == 1 and tabuleiro[26] == 1: return 1\n",
        "\n",
        "  # Vertical entre planos\n",
        "  elif tabuleiro[0] == 1 and tabuleiro[9] == 1 and tabuleiro[18] == 1: return 1\n",
        "  elif tabuleiro[1] == 1 and tabuleiro[10] == 1 and tabuleiro[19] == 1: return 1\n",
        "  elif tabuleiro[2] == 1 and tabuleiro[11] == 1 and tabuleiro[20] == 1: return 1\n",
        "\n",
        "  elif tabuleiro[3] == 1 and tabuleiro[12] == 1 and tabuleiro[21] == 1: return 1\n",
        "  elif tabuleiro[4] == 1 and tabuleiro[13] == 1 and tabuleiro[22] == 1: return 1\n",
        "  elif tabuleiro[5] == 1 and tabuleiro[14] == 1 and tabuleiro[23] == 1: return 1\n",
        "\n",
        "  elif tabuleiro[6] == 1 and tabuleiro[15] == 1 and tabuleiro[24] == 1: return 1\n",
        "  elif tabuleiro[7] == 1 and tabuleiro[16] == 1 and tabuleiro[25] == 1: return 1\n",
        "  elif tabuleiro[8] == 1 and tabuleiro[17] == 1 and tabuleiro[26] == 1: return 1\n",
        "\n",
        "  # Diagonal no mesmo plano\n",
        "  elif tabuleiro[0] == 1 and tabuleiro[4] == 1 and tabuleiro[8] == 1: return 1\n",
        "  elif tabuleiro[2] == 1 and tabuleiro[4] == 1 and tabuleiro[6] == 1: return 1\n",
        "\n",
        "  elif tabuleiro[9] == 1 and tabuleiro[13] == 1 and tabuleiro[17] == 1: return 1\n",
        "  elif tabuleiro[11] == 1 and tabuleiro[13] == 1 and tabuleiro[15] == 1: return 1\n",
        "\n",
        "  elif tabuleiro[18] == 1 and tabuleiro[22] == 1 and tabuleiro[26] == 1: return 1\n",
        "  elif tabuleiro[20] == 1 and tabuleiro[22] == 1 and tabuleiro[24] == 1: return 1\n",
        "\n",
        "  # Diagonal entre planos\n",
        "  elif tabuleiro[0] == 1 and tabuleiro[10] == 1 and tabuleiro[20] == 1: return 1\n",
        "  elif tabuleiro[2] == 1 and tabuleiro[10] == 1 and tabuleiro[18] == 1: return 1\n",
        "\n",
        "  elif tabuleiro[3] == 1 and tabuleiro[13] == 1 and tabuleiro[23] == 1: return 1\n",
        "  elif tabuleiro[5] == 1 and tabuleiro[13] == 1 and tabuleiro[21] == 1: return 1\n",
        "\n",
        "  elif tabuleiro[6] == 1 and tabuleiro[16] == 1 and tabuleiro[26] == 1: return 1\n",
        "  elif tabuleiro[8] == 1 and tabuleiro[16] == 1 and tabuleiro[24] == 1: return 1\n",
        "\n",
        "  elif tabuleiro[0] == 1 and tabuleiro[12] == 1 and tabuleiro[24] == 1: return 1\n",
        "  elif tabuleiro[6] == 1 and tabuleiro[12] == 1 and tabuleiro[18] == 1: return 1\n",
        "\n",
        "  elif tabuleiro[1] == 1 and tabuleiro[13] == 1 and tabuleiro[25] == 1: return 1\n",
        "  elif tabuleiro[7] == 1 and tabuleiro[13] == 1 and tabuleiro[19] == 1: return 1\n",
        "\n",
        "  elif tabuleiro[2] == 1 and tabuleiro[14] == 1 and tabuleiro[26] == 1: return 1\n",
        "  elif tabuleiro[8] == 1 and tabuleiro[14] == 1 and tabuleiro[20] == 1: return 1\n",
        "\n",
        "  elif tabuleiro[0] == 1 and tabuleiro[13] == 1 and tabuleiro[26] == 1: return 1\n",
        "  elif tabuleiro[2] == 1 and tabuleiro[13] == 1 and tabuleiro[24] == 1: return 1\n",
        "  elif tabuleiro[6] == 1 and tabuleiro[13] == 1 and tabuleiro[20] == 1: return 1\n",
        "  elif tabuleiro[8] == 1 and tabuleiro[13] == 1 and tabuleiro[18] == 1: return 1\n",
        "\n",
        "\n",
        "  # Casos de vitória \"O\"\n",
        "\n",
        "  # Horizontal no mesmo plano\n",
        "  elif tabuleiro[0] == 2 and tabuleiro[1] == 2 and tabuleiro[2] == 2: return 2\n",
        "  elif tabuleiro[3] == 2 and tabuleiro[4] == 2 and tabuleiro[5] == 2: return 2\n",
        "  elif tabuleiro[6] == 2 and tabuleiro[7] == 2 and tabuleiro[8] == 2: return 2\n",
        "\n",
        "  elif tabuleiro[9] == 2 and tabuleiro[10] == 2 and tabuleiro[11] == 2: return 2\n",
        "  elif tabuleiro[12] == 2 and tabuleiro[13] == 2 and tabuleiro[14] == 2: return 2\n",
        "  elif tabuleiro[15] == 2 and tabuleiro[16] == 2 and tabuleiro[17] == 2: return 2\n",
        "\n",
        "  elif tabuleiro[18] == 2 and tabuleiro[19] == 2 and tabuleiro[20] == 2: return 2\n",
        "  elif tabuleiro[21] == 2 and tabuleiro[22] == 2 and tabuleiro[23] == 2: return 2\n",
        "  elif tabuleiro[24] == 2 and tabuleiro[25] == 2 and tabuleiro[26] == 2: return 2\n",
        "\n",
        "  # Vertical no mesmo plano\n",
        "  elif tabuleiro[0] == 2 and tabuleiro[3] == 2 and tabuleiro[6] == 2: return 2\n",
        "  elif tabuleiro[1] == 2 and tabuleiro[4] == 2 and tabuleiro[7] == 2: return 2\n",
        "  elif tabuleiro[2] == 2 and tabuleiro[5] == 2 and tabuleiro[8] == 2: return 2\n",
        "\n",
        "  elif tabuleiro[9] == 2 and tabuleiro[12] == 2 and tabuleiro[15] == 2: return 2\n",
        "  elif tabuleiro[10] == 2 and tabuleiro[13] == 2 and tabuleiro[16] == 2: return 2\n",
        "  elif tabuleiro[11] == 2 and tabuleiro[14] == 2 and tabuleiro[17] == 2: return 2\n",
        "\n",
        "  elif tabuleiro[18] == 2 and tabuleiro[21] == 2 and tabuleiro[24] == 2: return 2\n",
        "  elif tabuleiro[19] == 2 and tabuleiro[22] == 2 and tabuleiro[25] == 2: return 2\n",
        "  elif tabuleiro[20] == 2 and tabuleiro[23] == 2 and tabuleiro[26] == 2: return 2\n",
        "\n",
        "  # Vertical entre planos\n",
        "  elif tabuleiro[0] == 2 and tabuleiro[9] == 2 and tabuleiro[18] == 2: return 2\n",
        "  elif tabuleiro[1] == 2 and tabuleiro[10] == 2 and tabuleiro[19] == 2: return 2\n",
        "  elif tabuleiro[2] == 2 and tabuleiro[11] == 2 and tabuleiro[20] == 2: return 2\n",
        "\n",
        "  elif tabuleiro[3] == 2 and tabuleiro[12] == 2 and tabuleiro[21] == 2: return 2\n",
        "  elif tabuleiro[4] == 2 and tabuleiro[13] == 2 and tabuleiro[22] == 2: return 2\n",
        "  elif tabuleiro[5] == 2 and tabuleiro[14] == 2 and tabuleiro[23] == 2: return 2\n",
        "\n",
        "  elif tabuleiro[6] == 2 and tabuleiro[15] == 2 and tabuleiro[24] == 2: return 2\n",
        "  elif tabuleiro[7] == 2 and tabuleiro[16] == 2 and tabuleiro[25] == 2: return 2\n",
        "  elif tabuleiro[8] == 2 and tabuleiro[17] == 2 and tabuleiro[26] == 2: return 2\n",
        "\n",
        "  # Diagonal no mesmo plano\n",
        "  elif tabuleiro[0] == 2 and tabuleiro[4] == 2 and tabuleiro[8] == 2: return 2\n",
        "  elif tabuleiro[2] == 2 and tabuleiro[4] == 2 and tabuleiro[6] == 2: return 2\n",
        "\n",
        "  elif tabuleiro[9] == 2 and tabuleiro[13] == 2 and tabuleiro[17] == 2: return 2\n",
        "  elif tabuleiro[11] == 2 and tabuleiro[13] == 2 and tabuleiro[15] == 2: return 2\n",
        "\n",
        "  elif tabuleiro[18] == 2 and tabuleiro[22] == 2 and tabuleiro[26] == 2: return 2\n",
        "  elif tabuleiro[20] == 2 and tabuleiro[22] == 2 and tabuleiro[24] == 2: return 2\n",
        "\n",
        "  # Diagonal entre planos\n",
        "  elif tabuleiro[0] == 2 and tabuleiro[10] == 2 and tabuleiro[20] == 2: return 2\n",
        "  elif tabuleiro[2] == 2 and tabuleiro[10] == 2 and tabuleiro[18] == 2: return 2\n",
        "\n",
        "  elif tabuleiro[3] == 2 and tabuleiro[13] == 2 and tabuleiro[23] == 2: return 2\n",
        "  elif tabuleiro[5] == 2 and tabuleiro[13] == 2 and tabuleiro[21] == 2: return 2\n",
        "\n",
        "  elif tabuleiro[6] == 2 and tabuleiro[16] == 2 and tabuleiro[26] == 2: return 2\n",
        "  elif tabuleiro[8] == 2 and tabuleiro[16] == 2 and tabuleiro[24] == 2: return 2\n",
        "\n",
        "  elif tabuleiro[0] == 2 and tabuleiro[12] == 2 and tabuleiro[24] == 2: return 2\n",
        "  elif tabuleiro[6] == 2 and tabuleiro[12] == 2 and tabuleiro[18] == 2: return 2\n",
        "\n",
        "  elif tabuleiro[1] == 2 and tabuleiro[13] == 2 and tabuleiro[25] == 2: return 2\n",
        "  elif tabuleiro[7] == 2 and tabuleiro[13] == 2 and tabuleiro[19] == 2: return 2\n",
        "\n",
        "  elif tabuleiro[2] == 2 and tabuleiro[14] == 2 and tabuleiro[26] == 2: return 2\n",
        "  elif tabuleiro[8] == 2 and tabuleiro[14] == 2 and tabuleiro[20] == 2: return 2\n",
        "\n",
        "  elif tabuleiro[0] == 2 and tabuleiro[13] == 2 and tabuleiro[26] == 2: return 2\n",
        "  elif tabuleiro[2] == 2 and tabuleiro[13] == 2 and tabuleiro[24] == 2: return 2\n",
        "  elif tabuleiro[6] == 2 and tabuleiro[13] == 2 and tabuleiro[20] == 2: return 2\n",
        "  elif tabuleiro[8] == 2 and tabuleiro[13] == 2 and tabuleiro[18] == 2: return 2\n",
        "\n",
        "  else:\n",
        "    # Verifica se é a última rodada e determina o empate\n",
        "    if rodada == 26: return 0\n",
        "    else: return -1\n",
        "\n",
        "\n",
        "# Simulando os jogos\n",
        "numJogos = 100000\n",
        "vitoriasX = 0.\n",
        "vitoriasO = 0.\n",
        "empates = 0.\n",
        "\n",
        "for i in range(numJogos):\n",
        "  resultado = jogoDaVelha(27)\n",
        "  if resultado == 0: empates += 1\n",
        "  elif resultado == 1: vitoriasX += 1\n",
        "  elif resultado == 2: vitoriasO += 1\n",
        "\n",
        "# Imprimindo resultados\n",
        "print(f'Vitórias X: {round((vitoriasX / numJogos) * 100, 2)}%')\n",
        "print(f'Vitórias O: {round((vitoriasO / numJogos) * 100, 2)}%')\n",
        "print(f'Empates: {round((empates / numJogos) * 100, 2)}%')\n",
        "\n",
        "jogosNaoEmpatados = vitoriasX + vitoriasO\n",
        "\n",
        "print('\\n----- Jogos que não terminam empatados -----\\n')\n",
        "print(f'Chance do jogador \"X\" ganhar: {round((vitoriasX / jogosNaoEmpatados) * 100, 2)}%')\n",
        "print(f'Chance do jogador \"O\" ganhar: {round((vitoriasO / jogosNaoEmpatados) * 100, 2)}%')"
      ]
    },
    {
      "cell_type": "markdown",
      "metadata": {},
      "source": [
        "Portanto, dadas as probabilidades acima considerando uma simulação de $100000$ jogos, podemos concluir que a chance de um jogo não terminar em empate é de:\n",
        "\n",
        "$\\text{vitóriasX + vitoriasO} = 56,73\\% +  43,27\\% = 100\\%$\n",
        "\n",
        "Como vemos, a chance de haver um empate em um jogo da velha tridimencional cai para $0\\%$, o que se dá justamente pela enorme quantidade de combinações de vitória para cada jogador ($\\frac{49}{8} = 6,125$ vezes maior que no jogo tradicional), tornando praticamente impossível que uma partida termine sem que nenhum dos jogadores a ganhe.\n",
        "\n",
        "Além disso, podemos ver que, assim como no jogo da velha comum, a probabilidade do primeiro jogador, isto é, o jogador \"X\" ganhar, dentre os jogos que não terminam empatados, é maior que a do jogador \"O\".\n",
        "\n",
        "No entanto, como o *espaço amostral* de jogos não empatados é maior, observamos uma leve redução dessa probabilidade do jogador \"X\" ganhar em relação ao visto no jogo da velha tradicional. Isso se dá pelo fato de, apesar do jogador \"X\" ser o primeiro jogar e, portanto, limitar inicialmente o *espaço amostral* das combinações possíveis para a vitória do jogador \"O\", no jogo tridimencional ele está limitando **uma parte menor** desse espaço amostral. Podemos observar isso ao analisar, por exemplo, a primeira rodada:\n",
        "\n",
        "- O jogador \"X\" preenche aleatoriamente uma casa e limita o tabuleiro a $26$ casas.\n",
        "\n",
        "- Logo, a partir daí, todas as possibilidades de vitória do jogador \"O\" que utilizam a casa já preenchida por \"X\" são descartadas, porém ainda há um número considerável de combinações que possibitam essa vitória.\n",
        "\n",
        "- Dessa forma, o jogador \"O\" não pode mais ganhar em uma das horizontais de um dos planos, uma das verticais de um dos planos, uma das verticais que corta os três planos e, em $\\frac{19}{27}$ das vezes, uma das diagonais (se o \"X\" estiver em quaisquer $19$ das $27$ casas do tabuleiro as quais compõem uma das diagonais, seja de um mesmo plano ou uma que corta os planos).\n",
        "\n",
        "Vemos então que, no pior dos casos do jogo tridimencional (o caso em que o \"X\" cai na casa central \"do cubo\": `tabuleiro[13]`), ainda haverá $49 - 13 = 36$ combinações de vitória, enquanto que no jogo comum, no pior caso (o caso em que o \"X\" cai na casa central do tabuleiro: `tabuleiro[4]`) há $8 - 4 = 4$ combinações de vitória. Quando comparamos relativamente as combinações de vitória após a primeira rodada considerando o pior caso de posição do \"X\", vemos que no jogo tridimencional temos $\\frac{36}{49} ≈ 73\\%$ de chance de vitória do jogador \"O\", enquanto que no jogo comum temos apenas $\\frac{4}{8} = 50\\%$ de chance de vitória do jogador \"O\".\n",
        "\n",
        "Assim, fica claro que o primeiro jogador, isto é, o jogador \"X\" continua tendo mais chances de ganhar em um jogo tridimencional dentre os jogos que não terminam empatados, porém essa chance é um pouco menor se comparada ao jogo da velha tradicional."
      ]
    }
  ],
  "metadata": {
    "colab": {
      "provenance": []
    },
    "kernelspec": {
      "display_name": "Python 3",
      "name": "python3"
    },
    "language_info": {
      "codemirror_mode": {
        "name": "ipython",
        "version": 3
      },
      "file_extension": ".py",
      "mimetype": "text/x-python",
      "name": "python",
      "nbconvert_exporter": "python",
      "pygments_lexer": "ipython3",
      "version": "3.11.5"
    }
  },
  "nbformat": 4,
  "nbformat_minor": 0
}
